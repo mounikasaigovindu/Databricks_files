{
 "cells": [
  {
   "cell_type": "code",
   "execution_count": 3,
   "id": "c07a7835",
   "metadata": {},
   "outputs": [],
   "source": [
    "#1 print tup \n",
    "Tup=4,5,6,7,8,9"
   ]
  },
  {
   "cell_type": "code",
   "execution_count": 18,
   "id": "1317ee09",
   "metadata": {},
   "outputs": [
    {
     "data": {
      "text/plain": [
       "(4, 5, 6, 7, 8, 9)"
      ]
     },
     "execution_count": 18,
     "metadata": {},
     "output_type": "execute_result"
    }
   ],
   "source": [
    "Tup[0:6]"
   ]
  },
  {
   "cell_type": "code",
   "execution_count": 7,
   "id": "7e0673c5",
   "metadata": {},
   "outputs": [],
   "source": [
    "tup=(4,5,6,7),(7,6,8,9)"
   ]
  },
  {
   "cell_type": "code",
   "execution_count": 10,
   "id": "9fcfd6e6",
   "metadata": {},
   "outputs": [
    {
     "name": "stdout",
     "output_type": "stream",
     "text": [
      "tup[0:4]: ((4, 5, 6, 7), (7, 6, 8, 9))\n"
     ]
    }
   ],
   "source": [
    "print(\"tup[0:4]:\",tup[0:4])"
   ]
  },
  {
   "cell_type": "code",
   "execution_count": 13,
   "id": "b7f1b2bf",
   "metadata": {},
   "outputs": [],
   "source": [
    "list_1=[4,5,6,79]"
   ]
  },
  {
   "cell_type": "code",
   "execution_count": 24,
   "id": "5322bb55",
   "metadata": {},
   "outputs": [],
   "source": [
    "List_1=tuple(list_1)"
   ]
  },
  {
   "cell_type": "code",
   "execution_count": 25,
   "id": "fa4cac8e",
   "metadata": {},
   "outputs": [
    {
     "data": {
      "text/plain": [
       "(4, 5, 6, 79)"
      ]
     },
     "execution_count": 25,
     "metadata": {},
     "output_type": "execute_result"
    }
   ],
   "source": [
    "List_1"
   ]
  },
  {
   "cell_type": "code",
   "execution_count": 32,
   "id": "26c7cb30",
   "metadata": {},
   "outputs": [
    {
     "data": {
      "text/plain": [
       "str"
      ]
     },
     "execution_count": 32,
     "metadata": {},
     "output_type": "execute_result"
    }
   ],
   "source": [
    "List_1=['4','5','6','79']\n",
    "type(\"tup\")"
   ]
  },
  {
   "cell_type": "code",
   "execution_count": 31,
   "id": "34a5a2d8",
   "metadata": {},
   "outputs": [
    {
     "data": {
      "text/plain": [
       "('foo', [1, 3], True)"
      ]
     },
     "execution_count": 31,
     "metadata": {},
     "output_type": "execute_result"
    }
   ],
   "source": [
    "tup_1=('foo',[1,2],True)\n",
    "tup_1[-2][1]=3\n",
    "tup_1"
   ]
  },
  {
   "cell_type": "code",
   "execution_count": 33,
   "id": "48623b9d",
   "metadata": {},
   "outputs": [
    {
     "data": {
      "text/plain": [
       "5"
      ]
     },
     "execution_count": 33,
     "metadata": {},
     "output_type": "execute_result"
    }
   ],
   "source": [
    "A=(1,81,4,9,16,81,49,64,81,100,81,16,81)\n",
    "A.count(81)"
   ]
  },
  {
   "cell_type": "code",
   "execution_count": 34,
   "id": "99fdae30",
   "metadata": {},
   "outputs": [
    {
     "name": "stdout",
     "output_type": "stream",
     "text": [
      "[1, 9, 25, 49, 81]\n"
     ]
    }
   ],
   "source": [
    "#2Use the list below and make a new list B that has only odd elements of this list in it.\n",
    "A=(1,4,9,16,25,36,49,64,81,100)\n",
    "a1=[]\n",
    "for i in A:\n",
    "    if i%2!=0:\n",
    "        a1.append(i)\n",
    "print(a1)\n",
    "\n"
   ]
  },
  {
   "cell_type": "code",
   "execution_count": null,
   "id": "b08650ac",
   "metadata": {},
   "outputs": [],
   "source": [
    "#3Suppose z = (2,3,4,5,6), which of the following is INCORRECT?\n",
    "option D is incorrect"
   ]
  },
  {
   "cell_type": "code",
   "execution_count": 41,
   "id": "cca89cbf",
   "metadata": {},
   "outputs": [
    {
     "data": {
      "text/plain": [
       "(4, 9, 16, 25, 36, 49, 64, 81)"
      ]
     },
     "execution_count": 41,
     "metadata": {},
     "output_type": "execute_result"
    }
   ],
   "source": [
    "#4\n",
    "A=(1,4,9,16,25,36,49,64,81,100)\n",
    "A[1:-1]\n"
   ]
  },
  {
   "cell_type": "code",
   "execution_count": 42,
   "id": "6c3436d1",
   "metadata": {},
   "outputs": [
    {
     "data": {
      "text/plain": [
       "(100, 81, 64, 49, 36, 25, 16, 9, 4, 1)"
      ]
     },
     "execution_count": 42,
     "metadata": {},
     "output_type": "execute_result"
    }
   ],
   "source": [
    "A[::-1]"
   ]
  },
  {
   "cell_type": "code",
   "execution_count": 48,
   "id": "2729c930",
   "metadata": {},
   "outputs": [
    {
     "name": "stdout",
     "output_type": "stream",
     "text": [
      "Ajay Kumar Singh\n",
      "2012\n"
     ]
    }
   ],
   "source": [
    "#5\n",
    "record = ('Ajay Kumar Singh', 50, 123.45, (12, 18, 2012))\n",
    "(a,b,c,(d,e,f))=record\n",
    "print(a)\n",
    "print(f)\n"
   ]
  },
  {
   "cell_type": "code",
   "execution_count": 51,
   "id": "7e51407d",
   "metadata": {},
   "outputs": [
    {
     "name": "stdout",
     "output_type": "stream",
     "text": [
      "4 25 64 100\n"
     ]
    }
   ],
   "source": [
    "#6\n",
    "#we are also allowed to extract the values back into variables. This is called \"unpacking\"\n",
    "A=(1,4,9,16,25,36,49,64,81,100)\n",
    "(_,a,_,_,b,_,_,c,_,d)=A\n",
    "print(a,b,c,d)"
   ]
  },
  {
   "cell_type": "code",
   "execution_count": 69,
   "id": "9bb6120b",
   "metadata": {},
   "outputs": [
    {
     "name": "stdout",
     "output_type": "stream",
     "text": [
      "Ajay Kumar Singh davil@example.com ['773-555-1212', '847-555-1212']\n"
     ]
    }
   ],
   "source": [
    "#7\n",
    "record=('Ajay Kumar Singh','davil@example.com','773-555-1212','847-555-1212')\n",
    "(Name,Emailaddress,*phonenumber,)=record\n",
    "print(Name,Emailaddress,phonenumber)"
   ]
  },
  {
   "cell_type": "code",
   "execution_count": 71,
   "id": "128787f6",
   "metadata": {},
   "outputs": [
    {
     "name": "stdout",
     "output_type": "stream",
     "text": [
      "1\n",
      "2\n",
      "4\n",
      "7\n",
      "8\n",
      "11\n",
      "13\n",
      "14\n",
      "16\n",
      "17\n",
      "19\n",
      "22\n",
      "23\n",
      "26\n",
      "28\n",
      "29\n",
      "31\n",
      "32\n",
      "34\n",
      "37\n",
      "38\n",
      "41\n",
      "43\n",
      "44\n",
      "46\n",
      "47\n",
      "49\n",
      "52\n",
      "53\n",
      "56\n",
      "58\n",
      "59\n",
      "61\n",
      "62\n",
      "64\n",
      "67\n",
      "68\n",
      "71\n",
      "73\n",
      "74\n",
      "76\n",
      "77\n",
      "79\n",
      "82\n",
      "83\n",
      "86\n",
      "88\n",
      "89\n",
      "91\n",
      "92\n",
      "94\n",
      "97\n",
      "98\n"
     ]
    }
   ],
   "source": [
    "#10\n",
    "i = 1\n",
    "while i<=100:\n",
    "    if i % 3!=0 and i % 5!=0:\n",
    "        print(i)\n",
    "    i=i+1\n"
   ]
  },
  {
   "cell_type": "code",
   "execution_count": 72,
   "id": "0c8ee832",
   "metadata": {},
   "outputs": [
    {
     "name": "stdout",
     "output_type": "stream",
     "text": [
      "####\n",
      "###\n",
      "##\n",
      "#\n"
     ]
    }
   ],
   "source": [
    "#11\n",
    "for i in range(4):\n",
    "    for j in range(4-i):\n",
    "        print(\"#\",end=\"\")\n",
    "    print()\n",
    "        "
   ]
  },
  {
   "cell_type": "code",
   "execution_count": 73,
   "id": "6bf8b2a9",
   "metadata": {},
   "outputs": [
    {
     "name": "stdout",
     "output_type": "stream",
     "text": [
      "1 2 3 4 \n",
      "2 3 4 \n",
      "3 4 \n",
      "4 \n"
     ]
    }
   ],
   "source": [
    "#12\n",
    "for i in range(1,5):\n",
    "    for j in range(5-i):\n",
    "        print(i+j,end=\" \")\n",
    "       \n",
    "    print()"
   ]
  },
  {
   "cell_type": "code",
   "execution_count": 74,
   "id": "742e7a4f",
   "metadata": {},
   "outputs": [
    {
     "name": "stdout",
     "output_type": "stream",
     "text": [
      "4\n",
      "positive\n"
     ]
    }
   ],
   "source": [
    "#9\n",
    "(a=int(input())\n",
    "if a>0:\n",
    "    print(\"positive\")\n",
    "else:\n",
    "    print(\"negative\")"
   ]
  },
  {
   "cell_type": "code",
   "execution_count": 75,
   "id": "14794135",
   "metadata": {},
   "outputs": [
    {
     "name": "stdout",
     "output_type": "stream",
     "text": [
      "[0, 1, 1, 2, 3, 5, 8, 13, 21, 34, 55, 89, 144, 233, 377, 610, 987, 1597, 2584, 4181, 6765, 10946, 17711, 28657, 46368, 75025, 121393, 196418, 317811, 514229, 832040, 1346269, 2178309, 3524578, 5702887, 9227465, 14930352, 24157817, 39088169, 63245986, 102334155, 165580141, 267914296, 433494437, 701408733, 1134903170, 1836311903, 2971215073, 4807526976, 7778742049]\n"
     ]
    }
   ],
   "source": [
    "f = [0, 1]\n",
    "for i in range(2, 50):\n",
    "    f.append(f[i-1] + f[i-2])\n",
    "print(f)    "
   ]
  },
  {
   "cell_type": "code",
   "execution_count": null,
   "id": "5d788b07",
   "metadata": {},
   "outputs": [],
   "source": []
  }
 ],
 "metadata": {
  "kernelspec": {
   "display_name": "Python 3",
   "language": "python",
   "name": "python3"
  },
  "language_info": {
   "codemirror_mode": {
    "name": "ipython",
    "version": 3
   },
   "file_extension": ".py",
   "mimetype": "text/x-python",
   "name": "python",
   "nbconvert_exporter": "python",
   "pygments_lexer": "ipython3",
   "version": "3.8.8"
  }
 },
 "nbformat": 4,
 "nbformat_minor": 5
}
